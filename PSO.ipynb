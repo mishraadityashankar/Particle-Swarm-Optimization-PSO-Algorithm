{
 "cells": [
  {
   "cell_type": "code",
   "execution_count": 1,
   "metadata": {},
   "outputs": [],
   "source": [
    "import pandas as pd\n",
    "import numpy as np\n",
    "from sklearn.model_selection import train_test_split # Import train_test_split function\n",
    "from sklearn import metrics #Import scikit-learn metrics module for accuracy calculation"
   ]
  },
  {
   "cell_type": "code",
   "execution_count": 2,
   "metadata": {},
   "outputs": [
    {
     "data": {
      "text/html": [
       "<div>\n",
       "<style scoped>\n",
       "    .dataframe tbody tr th:only-of-type {\n",
       "        vertical-align: middle;\n",
       "    }\n",
       "\n",
       "    .dataframe tbody tr th {\n",
       "        vertical-align: top;\n",
       "    }\n",
       "\n",
       "    .dataframe thead th {\n",
       "        text-align: right;\n",
       "    }\n",
       "</style>\n",
       "<table border=\"1\" class=\"dataframe\">\n",
       "  <thead>\n",
       "    <tr style=\"text-align: right;\">\n",
       "      <th></th>\n",
       "      <th>classname</th>\n",
       "      <th>cbo</th>\n",
       "      <th>dit</th>\n",
       "      <th>fanIn</th>\n",
       "      <th>fanOut</th>\n",
       "      <th>lcom</th>\n",
       "      <th>noc</th>\n",
       "      <th>numberOfAttributes</th>\n",
       "      <th>numberOfAttributesInherited</th>\n",
       "      <th>numberOfLinesOfCode</th>\n",
       "      <th>numberOfMethods</th>\n",
       "      <th>numberOfMethodsInherited</th>\n",
       "      <th>numberOfPrivateAttributes</th>\n",
       "      <th>numberOfPrivateMethods</th>\n",
       "      <th>numberOfPublicAttributes</th>\n",
       "      <th>numberOfPublicMethods</th>\n",
       "      <th>rfc</th>\n",
       "      <th>wmc</th>\n",
       "      <th>bugs</th>\n",
       "      <th></th>\n",
       "    </tr>\n",
       "  </thead>\n",
       "  <tbody>\n",
       "    <tr>\n",
       "      <th>0</th>\n",
       "      <td>ext::framework::a::importer::Activator</td>\n",
       "      <td>6</td>\n",
       "      <td>1</td>\n",
       "      <td>0</td>\n",
       "      <td>6</td>\n",
       "      <td>3</td>\n",
       "      <td>0</td>\n",
       "      <td>0</td>\n",
       "      <td>0</td>\n",
       "      <td>15</td>\n",
       "      <td>3</td>\n",
       "      <td>9</td>\n",
       "      <td>0</td>\n",
       "      <td>1</td>\n",
       "      <td>0</td>\n",
       "      <td>2</td>\n",
       "      <td>14</td>\n",
       "      <td>3</td>\n",
       "      <td>0</td>\n",
       "      <td></td>\n",
       "    </tr>\n",
       "    <tr>\n",
       "      <th>1</th>\n",
       "      <td>org::eclipse::osgi::framework::internal::relia...</td>\n",
       "      <td>14</td>\n",
       "      <td>1</td>\n",
       "      <td>3</td>\n",
       "      <td>11</td>\n",
       "      <td>300</td>\n",
       "      <td>0</td>\n",
       "      <td>25</td>\n",
       "      <td>0</td>\n",
       "      <td>492</td>\n",
       "      <td>25</td>\n",
       "      <td>7</td>\n",
       "      <td>17</td>\n",
       "      <td>7</td>\n",
       "      <td>0</td>\n",
       "      <td>7</td>\n",
       "      <td>172</td>\n",
       "      <td>115</td>\n",
       "      <td>0</td>\n",
       "      <td></td>\n",
       "    </tr>\n",
       "    <tr>\n",
       "      <th>2</th>\n",
       "      <td>org::osgi::framework::ServiceEvent</td>\n",
       "      <td>4</td>\n",
       "      <td>1</td>\n",
       "      <td>4</td>\n",
       "      <td>0</td>\n",
       "      <td>3</td>\n",
       "      <td>0</td>\n",
       "      <td>6</td>\n",
       "      <td>0</td>\n",
       "      <td>11</td>\n",
       "      <td>3</td>\n",
       "      <td>15</td>\n",
       "      <td>2</td>\n",
       "      <td>0</td>\n",
       "      <td>0</td>\n",
       "      <td>3</td>\n",
       "      <td>3</td>\n",
       "      <td>3</td>\n",
       "      <td>1</td>\n",
       "      <td></td>\n",
       "    </tr>\n",
       "    <tr>\n",
       "      <th>3</th>\n",
       "      <td>org::eclipse::osgi::framework::internal::core:...</td>\n",
       "      <td>1</td>\n",
       "      <td>2</td>\n",
       "      <td>1</td>\n",
       "      <td>0</td>\n",
       "      <td>0</td>\n",
       "      <td>0</td>\n",
       "      <td>1</td>\n",
       "      <td>0</td>\n",
       "      <td>4</td>\n",
       "      <td>1</td>\n",
       "      <td>12</td>\n",
       "      <td>0</td>\n",
       "      <td>0</td>\n",
       "      <td>1</td>\n",
       "      <td>1</td>\n",
       "      <td>1</td>\n",
       "      <td>1</td>\n",
       "      <td>0</td>\n",
       "      <td></td>\n",
       "    </tr>\n",
       "    <tr>\n",
       "      <th>4</th>\n",
       "      <td>substitutes::z::Fz</td>\n",
       "      <td>0</td>\n",
       "      <td>1</td>\n",
       "      <td>0</td>\n",
       "      <td>0</td>\n",
       "      <td>0</td>\n",
       "      <td>0</td>\n",
       "      <td>0</td>\n",
       "      <td>0</td>\n",
       "      <td>0</td>\n",
       "      <td>0</td>\n",
       "      <td>7</td>\n",
       "      <td>0</td>\n",
       "      <td>0</td>\n",
       "      <td>0</td>\n",
       "      <td>0</td>\n",
       "      <td>0</td>\n",
       "      <td>0</td>\n",
       "      <td>0</td>\n",
       "      <td></td>\n",
       "    </tr>\n",
       "  </tbody>\n",
       "</table>\n",
       "</div>"
      ],
      "text/plain": [
       "                                          classname    cbo    dit    fanIn   \\\n",
       "0            ext::framework::a::importer::Activator       6      1        0   \n",
       "1  org::eclipse::osgi::framework::internal::relia...     14      1        3   \n",
       "2                org::osgi::framework::ServiceEvent       4      1        4   \n",
       "3  org::eclipse::osgi::framework::internal::core:...      1      2        1   \n",
       "4                                substitutes::z::Fz       0      1        0   \n",
       "\n",
       "    fanOut    lcom    noc    numberOfAttributes   \\\n",
       "0         6       3      0                     0   \n",
       "1        11     300      0                    25   \n",
       "2         0       3      0                     6   \n",
       "3         0       0      0                     1   \n",
       "4         0       0      0                     0   \n",
       "\n",
       "    numberOfAttributesInherited    numberOfLinesOfCode    numberOfMethods   \\\n",
       "0                              0                     15                  3   \n",
       "1                              0                    492                 25   \n",
       "2                              0                     11                  3   \n",
       "3                              0                      4                  1   \n",
       "4                              0                      0                  0   \n",
       "\n",
       "    numberOfMethodsInherited    numberOfPrivateAttributes   \\\n",
       "0                           9                            0   \n",
       "1                           7                           17   \n",
       "2                          15                            2   \n",
       "3                          12                            0   \n",
       "4                           7                            0   \n",
       "\n",
       "    numberOfPrivateMethods    numberOfPublicAttributes   \\\n",
       "0                         1                           0   \n",
       "1                         7                           0   \n",
       "2                         0                           0   \n",
       "3                         0                           1   \n",
       "4                         0                           0   \n",
       "\n",
       "    numberOfPublicMethods    rfc    wmc    bugs      \n",
       "0                        2     14      3       0     \n",
       "1                        7    172    115       0     \n",
       "2                        3      3      3       1     \n",
       "3                        1      1      1       0     \n",
       "4                        0      0      0       0     "
      ]
     },
     "execution_count": 2,
     "metadata": {},
     "output_type": "execute_result"
    }
   ],
   "source": [
    "data = pd.read_csv('Eclipse Framework.csv') \n",
    "data.head()"
   ]
  },
  {
   "cell_type": "code",
   "execution_count": 3,
   "metadata": {},
   "outputs": [
    {
     "data": {
      "text/html": [
       "<div>\n",
       "<style scoped>\n",
       "    .dataframe tbody tr th:only-of-type {\n",
       "        vertical-align: middle;\n",
       "    }\n",
       "\n",
       "    .dataframe tbody tr th {\n",
       "        vertical-align: top;\n",
       "    }\n",
       "\n",
       "    .dataframe thead th {\n",
       "        text-align: right;\n",
       "    }\n",
       "</style>\n",
       "<table border=\"1\" class=\"dataframe\">\n",
       "  <thead>\n",
       "    <tr style=\"text-align: right;\">\n",
       "      <th></th>\n",
       "      <th>cbo</th>\n",
       "      <th>dit</th>\n",
       "      <th>fanIn</th>\n",
       "      <th>fanOut</th>\n",
       "      <th>lcom</th>\n",
       "      <th>noc</th>\n",
       "      <th>numberOfAttributes</th>\n",
       "      <th>numberOfAttributesInherited</th>\n",
       "      <th>numberOfLinesOfCode</th>\n",
       "      <th>numberOfMethods</th>\n",
       "      <th>numberOfMethodsInherited</th>\n",
       "      <th>numberOfPrivateAttributes</th>\n",
       "      <th>numberOfPrivateMethods</th>\n",
       "      <th>numberOfPublicAttributes</th>\n",
       "      <th>numberOfPublicMethods</th>\n",
       "      <th>rfc</th>\n",
       "      <th>wmc</th>\n",
       "      <th>bugs</th>\n",
       "    </tr>\n",
       "  </thead>\n",
       "  <tbody>\n",
       "    <tr>\n",
       "      <th>count</th>\n",
       "      <td>324.000000</td>\n",
       "      <td>324.000000</td>\n",
       "      <td>324.000000</td>\n",
       "      <td>324.000000</td>\n",
       "      <td>324.000000</td>\n",
       "      <td>324.000000</td>\n",
       "      <td>324.000000</td>\n",
       "      <td>324.000000</td>\n",
       "      <td>324.000000</td>\n",
       "      <td>324.000000</td>\n",
       "      <td>324.000000</td>\n",
       "      <td>324.000000</td>\n",
       "      <td>324.000000</td>\n",
       "      <td>324.000000</td>\n",
       "      <td>324.000000</td>\n",
       "      <td>324.000000</td>\n",
       "      <td>324.000000</td>\n",
       "      <td>324.000000</td>\n",
       "    </tr>\n",
       "    <tr>\n",
       "      <th>mean</th>\n",
       "      <td>9.672840</td>\n",
       "      <td>1.231481</td>\n",
       "      <td>2.953704</td>\n",
       "      <td>7.148148</td>\n",
       "      <td>124.228395</td>\n",
       "      <td>0.179012</td>\n",
       "      <td>6.703704</td>\n",
       "      <td>1.450617</td>\n",
       "      <td>122.018519</td>\n",
       "      <td>9.870370</td>\n",
       "      <td>14.722222</td>\n",
       "      <td>3.496914</td>\n",
       "      <td>2.083333</td>\n",
       "      <td>1.407407</td>\n",
       "      <td>5.743827</td>\n",
       "      <td>58.336420</td>\n",
       "      <td>32.641975</td>\n",
       "      <td>0.753086</td>\n",
       "    </tr>\n",
       "    <tr>\n",
       "      <th>std</th>\n",
       "      <td>11.161538</td>\n",
       "      <td>0.490273</td>\n",
       "      <td>4.761268</td>\n",
       "      <td>9.626924</td>\n",
       "      <td>355.964843</td>\n",
       "      <td>0.724659</td>\n",
       "      <td>13.894957</td>\n",
       "      <td>6.568102</td>\n",
       "      <td>228.928179</td>\n",
       "      <td>12.704373</td>\n",
       "      <td>14.142902</td>\n",
       "      <td>6.890339</td>\n",
       "      <td>5.848646</td>\n",
       "      <td>9.498610</td>\n",
       "      <td>7.186963</td>\n",
       "      <td>114.879104</td>\n",
       "      <td>60.679498</td>\n",
       "      <td>1.457602</td>\n",
       "    </tr>\n",
       "    <tr>\n",
       "      <th>min</th>\n",
       "      <td>0.000000</td>\n",
       "      <td>1.000000</td>\n",
       "      <td>0.000000</td>\n",
       "      <td>0.000000</td>\n",
       "      <td>0.000000</td>\n",
       "      <td>0.000000</td>\n",
       "      <td>0.000000</td>\n",
       "      <td>0.000000</td>\n",
       "      <td>0.000000</td>\n",
       "      <td>0.000000</td>\n",
       "      <td>0.000000</td>\n",
       "      <td>0.000000</td>\n",
       "      <td>0.000000</td>\n",
       "      <td>0.000000</td>\n",
       "      <td>0.000000</td>\n",
       "      <td>0.000000</td>\n",
       "      <td>0.000000</td>\n",
       "      <td>0.000000</td>\n",
       "    </tr>\n",
       "    <tr>\n",
       "      <th>25%</th>\n",
       "      <td>2.000000</td>\n",
       "      <td>1.000000</td>\n",
       "      <td>0.000000</td>\n",
       "      <td>1.000000</td>\n",
       "      <td>1.000000</td>\n",
       "      <td>0.000000</td>\n",
       "      <td>0.000000</td>\n",
       "      <td>0.000000</td>\n",
       "      <td>7.750000</td>\n",
       "      <td>2.000000</td>\n",
       "      <td>7.000000</td>\n",
       "      <td>0.000000</td>\n",
       "      <td>0.000000</td>\n",
       "      <td>0.000000</td>\n",
       "      <td>2.000000</td>\n",
       "      <td>5.000000</td>\n",
       "      <td>2.000000</td>\n",
       "      <td>0.000000</td>\n",
       "    </tr>\n",
       "    <tr>\n",
       "      <th>50%</th>\n",
       "      <td>6.000000</td>\n",
       "      <td>1.000000</td>\n",
       "      <td>1.000000</td>\n",
       "      <td>4.000000</td>\n",
       "      <td>15.000000</td>\n",
       "      <td>0.000000</td>\n",
       "      <td>2.000000</td>\n",
       "      <td>0.000000</td>\n",
       "      <td>45.000000</td>\n",
       "      <td>6.000000</td>\n",
       "      <td>9.000000</td>\n",
       "      <td>1.000000</td>\n",
       "      <td>0.000000</td>\n",
       "      <td>0.000000</td>\n",
       "      <td>4.000000</td>\n",
       "      <td>18.000000</td>\n",
       "      <td>12.000000</td>\n",
       "      <td>0.000000</td>\n",
       "    </tr>\n",
       "    <tr>\n",
       "      <th>75%</th>\n",
       "      <td>13.250000</td>\n",
       "      <td>1.000000</td>\n",
       "      <td>3.250000</td>\n",
       "      <td>10.000000</td>\n",
       "      <td>66.000000</td>\n",
       "      <td>0.000000</td>\n",
       "      <td>7.000000</td>\n",
       "      <td>0.000000</td>\n",
       "      <td>130.000000</td>\n",
       "      <td>12.000000</td>\n",
       "      <td>17.000000</td>\n",
       "      <td>4.000000</td>\n",
       "      <td>1.000000</td>\n",
       "      <td>0.000000</td>\n",
       "      <td>7.000000</td>\n",
       "      <td>61.500000</td>\n",
       "      <td>36.000000</td>\n",
       "      <td>1.000000</td>\n",
       "    </tr>\n",
       "    <tr>\n",
       "      <th>max</th>\n",
       "      <td>77.000000</td>\n",
       "      <td>3.000000</td>\n",
       "      <td>32.000000</td>\n",
       "      <td>67.000000</td>\n",
       "      <td>2775.000000</td>\n",
       "      <td>6.000000</td>\n",
       "      <td>138.000000</td>\n",
       "      <td>74.000000</td>\n",
       "      <td>1805.000000</td>\n",
       "      <td>75.000000</td>\n",
       "      <td>111.000000</td>\n",
       "      <td>82.000000</td>\n",
       "      <td>49.000000</td>\n",
       "      <td>137.000000</td>\n",
       "      <td>54.000000</td>\n",
       "      <td>1009.000000</td>\n",
       "      <td>534.000000</td>\n",
       "      <td>13.000000</td>\n",
       "    </tr>\n",
       "  </tbody>\n",
       "</table>\n",
       "</div>"
      ],
      "text/plain": [
       "             cbo         dit       fanIn      fanOut         lcom   \\\n",
       "count  324.000000  324.000000  324.000000  324.000000   324.000000   \n",
       "mean     9.672840    1.231481    2.953704    7.148148   124.228395   \n",
       "std     11.161538    0.490273    4.761268    9.626924   355.964843   \n",
       "min      0.000000    1.000000    0.000000    0.000000     0.000000   \n",
       "25%      2.000000    1.000000    0.000000    1.000000     1.000000   \n",
       "50%      6.000000    1.000000    1.000000    4.000000    15.000000   \n",
       "75%     13.250000    1.000000    3.250000   10.000000    66.000000   \n",
       "max     77.000000    3.000000   32.000000   67.000000  2775.000000   \n",
       "\n",
       "             noc    numberOfAttributes    numberOfAttributesInherited   \\\n",
       "count  324.000000            324.000000                     324.000000   \n",
       "mean     0.179012              6.703704                       1.450617   \n",
       "std      0.724659             13.894957                       6.568102   \n",
       "min      0.000000              0.000000                       0.000000   \n",
       "25%      0.000000              0.000000                       0.000000   \n",
       "50%      0.000000              2.000000                       0.000000   \n",
       "75%      0.000000              7.000000                       0.000000   \n",
       "max      6.000000            138.000000                      74.000000   \n",
       "\n",
       "        numberOfLinesOfCode    numberOfMethods    numberOfMethodsInherited   \\\n",
       "count             324.000000         324.000000                  324.000000   \n",
       "mean              122.018519           9.870370                   14.722222   \n",
       "std               228.928179          12.704373                   14.142902   \n",
       "min                 0.000000           0.000000                    0.000000   \n",
       "25%                 7.750000           2.000000                    7.000000   \n",
       "50%                45.000000           6.000000                    9.000000   \n",
       "75%               130.000000          12.000000                   17.000000   \n",
       "max              1805.000000          75.000000                  111.000000   \n",
       "\n",
       "        numberOfPrivateAttributes    numberOfPrivateMethods   \\\n",
       "count                   324.000000                324.000000   \n",
       "mean                      3.496914                  2.083333   \n",
       "std                       6.890339                  5.848646   \n",
       "min                       0.000000                  0.000000   \n",
       "25%                       0.000000                  0.000000   \n",
       "50%                       1.000000                  0.000000   \n",
       "75%                       4.000000                  1.000000   \n",
       "max                      82.000000                 49.000000   \n",
       "\n",
       "        numberOfPublicAttributes    numberOfPublicMethods          rfc   \\\n",
       "count                  324.000000               324.000000   324.000000   \n",
       "mean                     1.407407                 5.743827    58.336420   \n",
       "std                      9.498610                 7.186963   114.879104   \n",
       "min                      0.000000                 0.000000     0.000000   \n",
       "25%                      0.000000                 2.000000     5.000000   \n",
       "50%                      0.000000                 4.000000    18.000000   \n",
       "75%                      0.000000                 7.000000    61.500000   \n",
       "max                    137.000000                54.000000  1009.000000   \n",
       "\n",
       "             wmc        bugs   \n",
       "count  324.000000  324.000000  \n",
       "mean    32.641975    0.753086  \n",
       "std     60.679498    1.457602  \n",
       "min      0.000000    0.000000  \n",
       "25%      2.000000    0.000000  \n",
       "50%     12.000000    0.000000  \n",
       "75%     36.000000    1.000000  \n",
       "max    534.000000   13.000000  "
      ]
     },
     "execution_count": 3,
     "metadata": {},
     "output_type": "execute_result"
    }
   ],
   "source": [
    "data.describe()\n"
   ]
  },
  {
   "cell_type": "code",
   "execution_count": 4,
   "metadata": {},
   "outputs": [
    {
     "data": {
      "text/plain": [
       "Index(['classname ', ' cbo ', ' dit ', ' fanIn ', ' fanOut ', ' lcom ',\n",
       "       ' noc ', ' numberOfAttributes ', ' numberOfAttributesInherited ',\n",
       "       ' numberOfLinesOfCode ', ' numberOfMethods ',\n",
       "       ' numberOfMethodsInherited ', ' numberOfPrivateAttributes ',\n",
       "       ' numberOfPrivateMethods ', ' numberOfPublicAttributes ',\n",
       "       ' numberOfPublicMethods ', ' rfc ', ' wmc ', ' bugs ', ' '],\n",
       "      dtype='object')"
      ]
     },
     "execution_count": 4,
     "metadata": {},
     "output_type": "execute_result"
    }
   ],
   "source": [
    "data.columns"
   ]
  },
  {
   "cell_type": "code",
   "execution_count": 5,
   "metadata": {},
   "outputs": [],
   "source": [
    "data = data.rename(columns={'classname ':'classname', ' cbo ':'cbo', ' dit ':'dit', ' fanIn ':'fanIn', ' fanOut ':'fanout', ' lcom ':'lcom',\n",
    "       ' noc ':'noc', ' numberOfAttributes ':'numberOfAttributes', ' numberOfAttributesInherited ':'numberOfAttributesInherited',\n",
    "       ' numberOfLinesOfCode ':'numberOfLinesOfCode', ' numberOfMethods ':'numberOfMethods',\n",
    "       ' numberOfMethodsInherited ':'numberOfMethodsInherited', ' numberOfPrivateAttributes ':'numberOfPrivateAttributes',\n",
    "       ' numberOfPrivateMethods ':'numberOfPrivateMethods', ' numberOfPublicAttributes ':'numberOfPublicAttributes',\n",
    "       ' numberOfPublicMethods ':'numberOfPublicMethods', ' rfc ':'rfc', ' wmc ':'wmc', ' bugs ':'bugs'})"
   ]
  },
  {
   "cell_type": "code",
   "execution_count": 6,
   "metadata": {},
   "outputs": [
    {
     "name": "stdout",
     "output_type": "stream",
     "text": [
      "[16.623  1.601 12.875 64.307 26.794  1.56   4.643  1.811 36.479 27.714\n",
      "  1.537 19.644 14.395  0.628 13.185 29.402 27.249]\n"
     ]
    }
   ],
   "source": [
    "feature_cols = ['bugs', 'dit', 'fanIn', 'fanout','lcom','noc','numberOfAttributes','numberOfAttributesInherited','numberOfLinesOfCode','numberOfMethods','numberOfMethodsInherited','numberOfPrivateAttributes','numberOfPrivateMethods','numberOfPublicAttributes','numberOfPublicMethods','rfc','wmc']\n",
    "X = data[feature_cols] # Features\n",
    "y = data.cbo # Target variable\n",
    "from sklearn.feature_selection import SelectKBest\n",
    "from sklearn.feature_selection import f_classif\n",
    "test = SelectKBest(score_func=f_classif, k=5)\n",
    "fit = test.fit(X, y)\n",
    "np.set_printoptions(precision=3)\n",
    "print(fit.scores_)\n",
    "X = fit.transform(X)"
   ]
  },
  {
   "cell_type": "code",
   "execution_count": 7,
   "metadata": {},
   "outputs": [],
   "source": [
    "from sklearn.model_selection import train_test_split\n",
    "X_train, X_test, y_train, y_test = train_test_split(X, y, test_size = 0.2, random_state = 0)\n",
    "from sklearn.preprocessing import StandardScaler\n",
    "sc_X = StandardScaler()\n",
    "X_train = sc_X.fit_transform(X_train)\n",
    "X_test = sc_X.transform(X_test)"
   ]
  },
  {
   "cell_type": "code",
   "execution_count": 8,
   "metadata": {},
   "outputs": [
    {
     "data": {
      "text/plain": [
       "LinearRegression()"
      ]
     },
     "execution_count": 8,
     "metadata": {},
     "output_type": "execute_result"
    }
   ],
   "source": [
    "from sklearn.linear_model import LinearRegression\n",
    "regressor = LinearRegression()\n",
    "regressor.fit(X_train, y_train)"
   ]
  },
  {
   "cell_type": "code",
   "execution_count": 9,
   "metadata": {},
   "outputs": [
    {
     "data": {
      "text/plain": [
       "0.7835521882117635"
      ]
     },
     "execution_count": 9,
     "metadata": {},
     "output_type": "execute_result"
    }
   ],
   "source": [
    "y_pred = regressor.predict(X_test)\n",
    "from sklearn.metrics import r2_score\n",
    "r2_score(y_test,y_pred)"
   ]
  },
  {
   "cell_type": "code",
   "execution_count": 10,
   "metadata": {},
   "outputs": [],
   "source": [
    "from sklearn.linear_model import Ridge\n",
    "R = Ridge(alpha = 0.01)"
   ]
  },
  {
   "cell_type": "code",
   "execution_count": 11,
   "metadata": {},
   "outputs": [
    {
     "data": {
      "text/plain": [
       "Ridge(alpha=0.01)"
      ]
     },
     "execution_count": 11,
     "metadata": {},
     "output_type": "execute_result"
    }
   ],
   "source": [
    "R.fit(X_train, y_train)"
   ]
  },
  {
   "cell_type": "code",
   "execution_count": 12,
   "metadata": {},
   "outputs": [
    {
     "data": {
      "text/plain": [
       "0.7835574614946395"
      ]
     },
     "execution_count": 12,
     "metadata": {},
     "output_type": "execute_result"
    }
   ],
   "source": [
    "y_pred2 = R.predict(X_test)\n",
    "r2_score(y_test,y_pred2)"
   ]
  },
  {
   "cell_type": "code",
   "execution_count": 13,
   "metadata": {},
   "outputs": [
    {
     "name": "stdout",
     "output_type": "stream",
     "text": [
      "[ 9.602  2.206  3.416 -3.607 -0.343]\n"
     ]
    }
   ],
   "source": [
    "print(R.coef_)"
   ]
  },
  {
   "cell_type": "code",
   "execution_count": 14,
   "metadata": {},
   "outputs": [],
   "source": [
    "import random\n",
    "def generator(ubounds,lbounds,samples):\n",
    "    Population=[]\n",
    "    for i in range(samples):\n",
    "        p=[]\n",
    "        for j in range(5):\n",
    "            r = round(random.uniform(lbounds[j],ubounds[j]), 4)\n",
    "            p.append(r)\n",
    "        Population.append(p)\n",
    "    return Population"
   ]
  },
  {
   "cell_type": "code",
   "execution_count": 15,
   "metadata": {},
   "outputs": [],
   "source": [
    "def fitness(ith_pop,X,y):\n",
    "    sq_sum=0\n",
    "    for i in range(len(X)):\n",
    "        local_sum=0\n",
    "        for j in range(5):\n",
    "            local_sum= local_sum +(X[i][j]*ith_pop[j])\n",
    "        sq_sum = sq_sum + (y[i]-local_sum)*(y[i]-local_sum)\n",
    "    return sq_sum/(len(X))"
   ]
  },
  {
   "cell_type": "code",
   "execution_count": 16,
   "metadata": {},
   "outputs": [
    {
     "data": {
      "text/plain": [
       "[[12.8528, -0.6974, 5.5605, 2.1288, -3.7476],\n",
       " [6.494, 1.8208, 5.3832, -8.0093, -2.3518],\n",
       " [5.7389, 1.9487, 4.5811, -5.6776, -0.2054],\n",
       " [13.4351, -3.2026, 1.2448, 1.6309, -4.3725],\n",
       " [6.8418, -2.7607, 3.6265, 0.2193, -3.3642],\n",
       " [9.1872, 2.5613, 2.9969, 1.3514, -5.1184],\n",
       " [11.7975, -0.262, 2.6187, -4.2877, 1.1658],\n",
       " [9.3183, 3.4826, 0.937, -7.8546, 4.723],\n",
       " [9.8644, 2.0708, 4.236, 0.665, 1.2007],\n",
       " [6.1739, 0.5109, 1.6403, -0.3195, 0.2232],\n",
       " [12.31, 0.9172, 3.4431, -0.4371, 0.475],\n",
       " [9.4012, -2.6012, 5.4198, 1.7424, 0.5604],\n",
       " [5.9476, 3.7064, 7.1066, -6.4868, -3.8801],\n",
       " [12.8163, 0.4666, 4.8978, 1.507, 4.6048],\n",
       " [10.3144, -3.2135, 2.3536, -5.9836, -1.51],\n",
       " [13.12, 4.0251, 2.2444, -2.1407, -5.458],\n",
       " [10.8538, -1.5609, 5.564, -7.319, 4.2863],\n",
       " [8.6613, -0.3563, 1.8707, -2.49, -2.0068],\n",
       " [8.3882, -2.3728, 6.7192, -0.6824, -4.9096],\n",
       " [11.9181, -1.4465, 2.8704, -1.0967, -0.7061]]"
      ]
     },
     "execution_count": 16,
     "metadata": {},
     "output_type": "execute_result"
    }
   ],
   "source": [
    "p_upper = np.array([13.5,5.5,7.5,2.5,5.5])\n",
    "p_lower = np.array([5.5,-3.5,0.5,-8.5,-5.5])\n",
    "Population = generator(p_upper,p_lower,20)\n",
    "Population"
   ]
  },
  {
   "cell_type": "code",
   "execution_count": 17,
   "metadata": {},
   "outputs": [
    {
     "data": {
      "text/plain": [
       "[[0.4589, 0.2897, 0.732, 0.3102, 0.1005],\n",
       " [0.8219, 0.493, 0.9733, 0.8863, 0.0727],\n",
       " [0.9944, 0.8405, 0.4534, 0.5089, 0.2806],\n",
       " [0.6459, 0.0692, 0.9927, 0.1531, 0.8975],\n",
       " [0.8181, 0.3529, 0.3859, 0.0807, 0.055],\n",
       " [0.742, 0.9534, 0.5009, 0.3432, 0.3705],\n",
       " [0.9995, 0.5133, 0.0558, 0.336, 0.9724],\n",
       " [0.8456, 0.296, 0.9836, 0.3279, 0.3633],\n",
       " [0.1114, 0.6764, 0.2427, 0.1697, 0.1406],\n",
       " [0.1554, 0.2453, 0.2986, 0.6513, 0.6625],\n",
       " [0.0446, 0.981, 0.254, 0.0167, 0.4877],\n",
       " [0.3924, 0.3987, 0.3263, 0.1776, 0.45],\n",
       " [0.8412, 0.6447, 0.206, 0.8709, 0.2037],\n",
       " [0.8796, 0.7914, 0.1386, 0.4743, 0.9256],\n",
       " [0.6226, 0.5767, 0.4744, 0.8496, 0.3817],\n",
       " [0.6255, 0.5499, 0.9451, 0.2846, 0.1205],\n",
       " [0.9088, 0.383, 0.8513, 0.5384, 0.2866],\n",
       " [0.4064, 0.3144, 0.4019, 0.817, 0.6676],\n",
       " [0.1962, 0.8651, 0.3857, 0.3823, 0.7788],\n",
       " [0.8618, 0.0755, 0.0431, 0.0633, 0.4266]]"
      ]
     },
     "execution_count": 17,
     "metadata": {},
     "output_type": "execute_result"
    }
   ],
   "source": [
    "v_upper = np.array([1,1,1,1,1])\n",
    "v_lower = np.array([0,0,0,0,0])\n",
    "velocity = generator(v_upper,v_lower,20)\n",
    "velocity"
   ]
  },
  {
   "cell_type": "code",
   "execution_count": 18,
   "metadata": {},
   "outputs": [
    {
     "name": "stdout",
     "output_type": "stream",
     "text": [
      "144.20713532459777\n",
      "181.2577540874544\n",
      "143.5572871917976\n",
      "134.96106520417828\n",
      "162.40187009629392\n",
      "121.51909807343289\n",
      "121.17467032877605\n",
      "123.09877334801801\n",
      "163.31857002747824\n",
      "130.84770419512424\n",
      "147.16069812194127\n",
      "131.239410614869\n",
      "147.0039981406291\n",
      "274.3146134457842\n",
      "204.84483429775517\n",
      "125.11218302165155\n",
      "122.98359445462643\n",
      "148.4638453413705\n",
      "141.78379502725832\n",
      "121.89161699407401\n",
      "gBest: [11.7975, -0.262, 2.6187, -4.2877, 1.1658]\n",
      "Best Fitness: 121.17467032877605\n"
     ]
    }
   ],
   "source": [
    "# Initializing\n",
    "y_train1 = np.array(y_train)\n",
    "p_best = []\n",
    "f_best = []\n",
    "g_best = Population[0]\n",
    "best_fitness = fitness(Population[0],X_train,y_train1)\n",
    "for i in range(len(Population)):\n",
    "    p_best.append(Population[i])\n",
    "    p_fit = fitness(Population[i],X_train,y_train1)\n",
    "    f_best.append(p_fit)\n",
    "    print(p_fit)\n",
    "    if(p_fit<best_fitness):\n",
    "        best_fitness = p_fit\n",
    "        g_best = Population[i]\n",
    "\n",
    "print(\"gBest:\",g_best)\n",
    "print(\"Best Fitness:\",best_fitness)"
   ]
  },
  {
   "cell_type": "code",
   "execution_count": 19,
   "metadata": {},
   "outputs": [],
   "source": [
    "# Particle Swarm Optimization PSO code\n",
    "T = 30\n",
    "w = 0.5       # constant inertia weight (how much to weigh the previous velocity)\n",
    "c1 = 1        # cognative constant\n",
    "c2 = 2\n",
    "\n",
    "for t in range(T):\n",
    "    \n",
    "    for i in range(len(Population)):\n",
    "        \n",
    "        for j in range(5):\n",
    "            \n",
    "            r1 =  round(random.uniform(0,1), 3)\n",
    "            r2 =  round(random.uniform(0,1), 3)\n",
    "            \n",
    "            #update velocity\n",
    "            velocity[i][j] = w*velocity[i][j] + c1*r1*(p_best[i][j]-Population[i][j]) + c2*r2*(g_best[j]-Population[i][j])\n",
    "            \n",
    "            #update Position\n",
    "            Population[i][j] = Population[i][j] + velocity[i][j]\n",
    "            \n",
    "            #bound the position\n",
    "            if(Population[i][j]>p_upper[j]):\n",
    "                Population[i][j] = p_upper[j]\n",
    "            if(Population[i][j]<p_lower[j]):\n",
    "                Population[i][j] = p_lower[j]\n",
    "        \n",
    "        #Evaluate the new Position\n",
    "        cur_fitness = fitness(Population[i],X_train,y_train1)\n",
    "        \n",
    "        #Update the pBest\n",
    "        if(cur_fitness<f_best[i]):\n",
    "            f_best[i] = cur_fitness\n",
    "            p_best[i] = Population[i]\n",
    "            \n",
    "        #Update the gBest\n",
    "        if(cur_fitness<best_fitness):\n",
    "            best_fitness = cur_fitness\n",
    "            g_best = Population[i]"
   ]
  },
  {
   "cell_type": "code",
   "execution_count": 20,
   "metadata": {},
   "outputs": [
    {
     "name": "stdout",
     "output_type": "stream",
     "text": [
      "[11.783042395398107, 5.5, 3.0166936005679266, -3.7562999962974337, 0.74967999616865]\n"
     ]
    }
   ],
   "source": [
    "print(g_best)"
   ]
  },
  {
   "cell_type": "code",
   "execution_count": 21,
   "metadata": {},
   "outputs": [
    {
     "name": "stdout",
     "output_type": "stream",
     "text": [
      "120.07740494850387\n"
     ]
    }
   ],
   "source": [
    "print(best_fitness)"
   ]
  },
  {
   "cell_type": "code",
   "execution_count": 22,
   "metadata": {},
   "outputs": [
    {
     "name": "stdout",
     "output_type": "stream",
     "text": [
      "119.88240170670346\n"
     ]
    }
   ],
   "source": [
    "OptimalW = np.array([9.602,2.206,3.416,-3.607,-0.343])\n",
    "Optimal_fitness = fitness(OptimalW,X_train,y_train1)\n",
    "print(Optimal_fitness)"
   ]
  },
  {
   "cell_type": "code",
   "execution_count": null,
   "metadata": {},
   "outputs": [],
   "source": []
  }
 ],
 "metadata": {
  "kernelspec": {
   "display_name": "Python 3",
   "language": "python",
   "name": "python3"
  },
  "language_info": {
   "codemirror_mode": {
    "name": "ipython",
    "version": 3
   },
   "file_extension": ".py",
   "mimetype": "text/x-python",
   "name": "python",
   "nbconvert_exporter": "python",
   "pygments_lexer": "ipython3",
   "version": "3.8.3"
  }
 },
 "nbformat": 4,
 "nbformat_minor": 4
}
